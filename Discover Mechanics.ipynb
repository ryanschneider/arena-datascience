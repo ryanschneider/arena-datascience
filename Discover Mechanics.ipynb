{
 "cells": [
  {
   "cell_type": "markdown",
   "metadata": {},
   "source": [
    "Discover Mechanics\n",
    "==========\n",
    "\n",
    "Let's do some Monte Carlos for Discover as well.  Some ones to try:\n",
    "\n",
    "* Tomb Spider (Discover a Beast)\n",
    "* Jewled Scarab (Discover a 3 Cost Card)\n",
    "* Dark Peddler (Discover a 1-Cost Card - Warlock Only)\n",
    "* Ethereal Conjurer (Discover a Spell - Mage Only)"
   ]
  },
  {
   "cell_type": "code",
   "execution_count": 20,
   "metadata": {
    "collapsed": true
   },
   "outputs": [],
   "source": [
    "# Load up all the cards\n",
    "from helpers.data import load_dataframe, player_classes\n",
    "from helpers.discover import discover\n",
    "from collections import Counter\n",
    "import numpy as np\n",
    "\n",
    "df = load_dataframe()"
   ]
  },
  {
   "cell_type": "code",
   "execution_count": 62,
   "metadata": {
    "collapsed": true
   },
   "outputs": [],
   "source": [
    "# Tomb Spider (Discover a Beast)\n",
    "# First, let's filter down to just the beasts\n",
    "beasts = df[df.race == \"Beast\"]\n",
    "\n",
    "# let's get the initial optimized dataframes for each class\n",
    "beasts_by_class = dict()\n",
    "for cls in player_classes:\n",
    "    discarded_best, discarded_picks, optimized_df = discover(cls, beasts)\n",
    "    beasts_by_class[cls] = optimized_df\n",
    "\n",
    "def _discover_monte_carlo(cards):\n",
    "    by_class = dict()\n",
    "    for cls in player_classes:\n",
    "        discarded_best, discarded_picks, optimized_df = discover(cls, cards)\n",
    "        by_class[cls] = optimized_df\n",
    "        \n",
    "    def perform_monte_carlo(cls, n=10000):\n",
    "        best_counter = Counter()\n",
    "        picks_counter = Counter()\n",
    "        for i in range(n):\n",
    "            best, picks, discard = discover(cls, by_class[cls], needs_weights=False)\n",
    "            best_counter.update([best[\"name\"]])\n",
    "            picks_counter.update(picks[\"name\"].values)\n",
    "        return best_counter, picks_counter\n",
    "    \n",
    "    func = perform_monte_carlo\n",
    "    func.by_class = by_class\n",
    "    return func\n",
    "\n",
    "# our function for monte-carloing the tomb spider\n",
    "tomb_spider_monte_carlo = _discover_monte_carlo(beasts)"
   ]
  },
  {
   "cell_type": "code",
   "execution_count": 66,
   "metadata": {
    "collapsed": false
   },
   "outputs": [
    {
     "data": {
      "text/plain": [
       "[(u'Savannah Highmane', 1394),\n",
       " (u'King Krush', 1255),\n",
       " (u\"Gahz'rilla\", 1077),\n",
       " (u\"King's Elekk\", 910),\n",
       " (u'Dreadscale', 814),\n",
       " (u'Webspinner', 657),\n",
       " (u'Stampeding Kodo', 314),\n",
       " (u'Core Rager', 313),\n",
       " (u'Scavenging Hyena', 275),\n",
       " (u'Stranglethorn Tiger', 275),\n",
       " (u'Haunted Creeper', 274),\n",
       " (u'Maexxna', 212),\n",
       " (u'King of Beasts', 197),\n",
       " (u'Emperor Cobra', 172),\n",
       " (u'Tomb Spider', 167),\n",
       " (u'King Mukla', 149),\n",
       " (u'Dire Wolf Alpha', 146),\n",
       " (u'The Beast', 130),\n",
       " (u'Captured Jormungar', 130),\n",
       " (u'Lost Tallstrider', 129),\n",
       " (u'Jeweled Scarab', 128),\n",
       " (u'Tundra Rhino', 121),\n",
       " (u'Jungle Panther', 117),\n",
       " (u'Armored Warhorse', 106),\n",
       " (u'River Crocolisk', 99),\n",
       " (u'Bloodfen Raptor', 93),\n",
       " (u'Timber Wolf', 59),\n",
       " (u'Ironbeak Owl', 57),\n",
       " (u'Ironfur Grizzly', 53),\n",
       " (u'Oasis Snapjaw', 35)]"
      ]
     },
     "execution_count": 66,
     "metadata": {},
     "output_type": "execute_result"
    }
   ],
   "source": [
    "best, picks = tomb_spider_monte_carlo(\"Hunter\", n=10000)\n",
    "best.most_common(30)"
   ]
  },
  {
   "cell_type": "code",
   "execution_count": 67,
   "metadata": {
    "collapsed": false
   },
   "outputs": [
    {
     "data": {
      "text/plain": [
       "(74.159199999999998, 54.358974358974358)"
      ]
     },
     "execution_count": 67,
     "metadata": {},
     "output_type": "execute_result"
    }
   ],
   "source": [
    "# The Average Best Score is Actually much better than the Average Score\n",
    "scores = []\n",
    "for card, count in best.items():\n",
    "    score = beasts[beasts[\"name\"] == card].iloc[0].Hunter_Tier\n",
    "    scores.extend([score] * count)\n",
    "\n",
    "avg_best_score = np.mean(scores)\n",
    "avg_best_score, tomb_spider_monte_carlo.by_class[\"Hunter\"].Hunter_Tier.mean()"
   ]
  },
  {
   "cell_type": "code",
   "execution_count": 55,
   "metadata": {
    "collapsed": false
   },
   "outputs": [],
   "source": [
    "# Jeweled Scarab\n",
    "threes = df[df.cost == 3]\n",
    "\n",
    "# our monte carlo function\n",
    "jeweled_scarab_monte_carlo = _discover_monte_carlo(threes)"
   ]
  },
  {
   "cell_type": "code",
   "execution_count": 61,
   "metadata": {
    "collapsed": false,
    "scrolled": false
   },
   "outputs": [
    {
     "data": {
      "text/plain": [
       "[(u'Spellslinger', 755),\n",
       " (u'Arcane Intellect', 691),\n",
       " (u'Flamewaker', 602),\n",
       " (u'Kirin Tor Mage', 512),\n",
       " (u'Forgotten Torch', 416),\n",
       " (u'Mirror Entity', 409),\n",
       " (u'Polymorph: Boar', 283),\n",
       " (u'Soot Spewer', 256),\n",
       " (u'Harvest Golem', 248),\n",
       " (u'Argent Horserider', 235),\n",
       " (u'Fjola Lightbane', 231),\n",
       " (u'Scarlet Crusader', 229),\n",
       " (u'Shattered Sun Cleric', 222),\n",
       " (u'Spider Tank', 219),\n",
       " (u'Eydis Darkbane', 209),\n",
       " (u'Blood Knight', 202),\n",
       " (u'Ogre Brute', 200),\n",
       " (u'Earthen Ring Farseer', 197),\n",
       " (u'Shade of Naxxramas', 189),\n",
       " (u'Effigy', 188),\n",
       " (u'Big Game Hunter', 187),\n",
       " (u'Mind Control Tech', 184),\n",
       " (u'Counterspell', 182),\n",
       " (u'Acolyte of Pain', 176),\n",
       " (u'Imp Master', 169),\n",
       " (u'Saboteur', 167),\n",
       " (u'Emperor Cobra', 145),\n",
       " (u'King Mukla', 145),\n",
       " (u'Silver Hand Regent', 134),\n",
       " (u'Silent Knight', 119)]"
      ]
     },
     "execution_count": 61,
     "metadata": {},
     "output_type": "execute_result"
    }
   ],
   "source": [
    "best, picks = jeweled_scarab_monte_carlo(\"Mage\", n=10000)\n",
    "best.most_common(30)"
   ]
  },
  {
   "cell_type": "code",
   "execution_count": 34,
   "metadata": {
    "collapsed": true
   },
   "outputs": [],
   "source": [
    "# Ethereal Conjurer\n",
    "spells = df[df.type == \"Spell\"]\n",
    "discarded_best, discarded_picks, spells = discover(\"Mage\", spells)\n",
    "\n",
    "def ethereal_monte_carlo(n=10000):\n",
    "    best_counter = Counter()\n",
    "    picks_counter = Counter()\n",
    "    for i in range(n):\n",
    "        best, picks, discard = discover(\"Mage\", spells, needs_weights=False)\n",
    "        best_counter.update([best[\"name\"]])\n",
    "        picks_counter.update(picks[\"name\"].values)\n",
    "    return best_counter, picks_counter"
   ]
  },
  {
   "cell_type": "code",
   "execution_count": 38,
   "metadata": {
    "collapsed": false
   },
   "outputs": [
    {
     "data": {
      "text/plain": [
       "[(u'Flamestrike', 1041),\n",
       " (u'Fireball', 1010),\n",
       " (u'Blizzard', 912),\n",
       " (u'Flamecannon', 769),\n",
       " (u'Frostbolt', 769),\n",
       " (u'Polymorph', 723),\n",
       " (u'Pyroblast', 615),\n",
       " (u'Flame Lance', 550),\n",
       " (u'Unstable Portal', 505),\n",
       " (u'Arcane Intellect', 486),\n",
       " (u'Arcane Blast', 410),\n",
       " (u'Forgotten Torch', 340),\n",
       " (u'Mirror Entity', 321),\n",
       " (u\"Dragon's Breath\", 283),\n",
       " (u'Polymorph: Boar', 252),\n",
       " (u'Effigy', 232),\n",
       " (u'Arcane Missiles', 202),\n",
       " (u'Arcane Explosion', 130),\n",
       " (u'Counterspell', 123),\n",
       " (u'Cone of Cold', 98),\n",
       " (u'Duplicate', 86),\n",
       " (u'Mirror Image', 49),\n",
       " (u'Echo of Medivh', 39),\n",
       " (u'Vaporize', 25),\n",
       " (u'Spellbender', 20),\n",
       " (u'Frost Nova', 6),\n",
       " (u'Ice Barrier', 4)]"
      ]
     },
     "execution_count": 38,
     "metadata": {},
     "output_type": "execute_result"
    }
   ],
   "source": [
    "best, picks =ethereal_monte_carlo(n=10000)"
   ]
  },
  {
   "cell_type": "code",
   "execution_count": 46,
   "metadata": {
    "collapsed": false
   },
   "outputs": [
    {
     "data": {
      "text/plain": [
       "([(u'Flamestrike', 1041),\n",
       "  (u'Fireball', 1010),\n",
       "  (u'Blizzard', 912),\n",
       "  (u'Flamecannon', 769),\n",
       "  (u'Frostbolt', 769)],\n",
       " '  ',\n",
       " [(u'Frost Nova', 1109),\n",
       "  (u'Arcane Intellect', 1097),\n",
       "  (u'Fireball', 1086),\n",
       "  (u'Flame Lance', 1064),\n",
       "  (u'Polymorph', 1062),\n",
       "  (u'Counterspell', 1062),\n",
       "  (u'Blizzard', 1058),\n",
       "  (u'Ice Block', 1054),\n",
       "  (u'Arcane Explosion', 1049),\n",
       "  (u'Spellbender', 1045),\n",
       "  (u'Arcane Blast', 1042),\n",
       "  (u'Arcane Missiles', 1041),\n",
       "  (u'Flamestrike', 1041),\n",
       "  (u'Mirror Image', 1035),\n",
       "  (u'Effigy', 1030),\n",
       "  (u'Frostbolt', 1027),\n",
       "  (u\"Dragon's Breath\", 1026),\n",
       "  (u'Duplicate', 1024),\n",
       "  (u'Echo of Medivh', 1019),\n",
       "  (u'Ice Lance', 1017),\n",
       "  (u'Forgotten Torch', 1016),\n",
       "  (u'Pyroblast', 1013),\n",
       "  (u'Cone of Cold', 1013),\n",
       "  (u'Polymorph: Boar', 1012),\n",
       "  (u'Unstable Portal', 1007),\n",
       "  (u'Flamecannon', 1006),\n",
       "  (u'Vaporize', 1002),\n",
       "  (u'Ice Barrier', 992),\n",
       "  (u'Mirror Entity', 951)])"
      ]
     },
     "execution_count": 46,
     "metadata": {},
     "output_type": "execute_result"
    }
   ],
   "source": [
    "best.most_common(5), \"  \", picks.most_common(30)"
   ]
  },
  {
   "cell_type": "code",
   "execution_count": 68,
   "metadata": {
    "collapsed": true
   },
   "outputs": [],
   "source": [
    "# Dark Peddler\n",
    "ones = df[df.cost == 1]\n",
    "discarded_best, discarded_picks, ones = discover(\"Warlock\", ones)\n",
    "\n",
    "def dark_peddler_monte_carlo(n=10000):\n",
    "    best_counter = Counter()\n",
    "    picks_counter = Counter()\n",
    "    for i in range(n):\n",
    "        best, picks, discard = discover(\"Warlock\", ones, needs_weights=False)\n",
    "        best_counter.update([best[\"name\"]])\n",
    "        picks_counter.update(picks[\"name\"].values)\n",
    "    return best_counter, picks_counter"
   ]
  },
  {
   "cell_type": "code",
   "execution_count": 71,
   "metadata": {
    "collapsed": false
   },
   "outputs": [
    {
     "data": {
      "text/plain": [
       "[(u'Mortal Coil', 1856),\n",
       " (u'Voidwalker', 1450),\n",
       " (u'Power Overwhelming', 1358),\n",
       " (u'Flame Imp', 1050),\n",
       " (u'Soulfire', 1012),\n",
       " (u'Blood Imp', 635),\n",
       " (u'Zombie Chow', 495),\n",
       " (u'Abusive Sergeant', 264),\n",
       " (u'Worgen Infiltrator', 171),\n",
       " (u'Argent Squire', 170),\n",
       " (u'Elven Archer', 149),\n",
       " (u'Corruption', 143),\n",
       " (u'Young Priestess', 130),\n",
       " (u'Clockwork Gnome', 128),\n",
       " (u'Gadgetzan Jouster', 116),\n",
       " (u'Voodoo Doctor', 100),\n",
       " (u'Southsea Deckhand', 89),\n",
       " (u'Stonetusk Boar', 84),\n",
       " (u'Leper Gnome', 82),\n",
       " (u'Tournament Attendee', 73),\n",
       " (u'Lowly Squire', 71),\n",
       " (u'Murloc Raider', 68),\n",
       " (u'Goldshire Footman', 57),\n",
       " (u'Injured Kvaldir', 55),\n",
       " (u'Cogmaster', 48),\n",
       " (u'Bloodsail Corsair', 42),\n",
       " (u'Shieldbearer', 26),\n",
       " (u'Hungry Crab', 20),\n",
       " (u'Lightwarden', 15),\n",
       " (u'Undertaker', 14)]"
      ]
     },
     "execution_count": 71,
     "metadata": {},
     "output_type": "execute_result"
    }
   ],
   "source": [
    "best, picks = dark_peddler_monte_carlo(n=10000)\n",
    "best.most_common(30)"
   ]
  },
  {
   "cell_type": "code",
   "execution_count": 72,
   "metadata": {
    "collapsed": false
   },
   "outputs": [
    {
     "data": {
      "text/plain": [
       "[(u'Flame Imp', 1987),\n",
       " (u'Reliquary Seeker', 1948),\n",
       " (u'Mortal Coil', 1930),\n",
       " (u'Soulfire', 1917),\n",
       " (u'Blood Imp', 1879),\n",
       " (u'Voidwalker', 1878),\n",
       " (u'Corruption', 1846),\n",
       " (u'Power Overwhelming', 1801),\n",
       " (u'Sir Finley Mrrgglton', 566),\n",
       " (u'Abusive Sergeant', 546),\n",
       " (u'Southsea Deckhand', 534),\n",
       " (u'Lowly Squire', 523),\n",
       " (u'Shieldbearer', 522),\n",
       " (u'Injured Kvaldir', 519),\n",
       " (u'Young Dragonhawk', 514),\n",
       " (u'Leper Gnome', 506),\n",
       " (u'Murloc Tidecaller', 498),\n",
       " (u'Elven Archer', 497),\n",
       " (u'Zombie Chow', 495),\n",
       " (u'Dragon Egg', 493),\n",
       " (u'Murloc Raider', 490),\n",
       " (u'Lightwarden', 490),\n",
       " (u'Hungry Crab', 486),\n",
       " (u'Grimscale Oracle', 486),\n",
       " (u'Tournament Attendee', 486),\n",
       " (u'Undertaker', 485),\n",
       " (u'Stonetusk Boar', 485),\n",
       " (u'Secretkeeper', 484),\n",
       " (u'Goldshire Footman', 482),\n",
       " (u'Clockwork Gnome', 482)]"
      ]
     },
     "execution_count": 72,
     "metadata": {},
     "output_type": "execute_result"
    }
   ],
   "source": [
    "picks.most_common(30)"
   ]
  }
 ],
 "metadata": {
  "kernelspec": {
   "display_name": "Python 2",
   "language": "python",
   "name": "python2"
  },
  "language_info": {
   "codemirror_mode": {
    "name": "ipython",
    "version": 2
   },
   "file_extension": ".py",
   "mimetype": "text/x-python",
   "name": "python",
   "nbconvert_exporter": "python",
   "pygments_lexer": "ipython2",
   "version": "2.7.10"
  }
 },
 "nbformat": 4,
 "nbformat_minor": 0
}
