{
 "cells": [
  {
   "cell_type": "markdown",
   "metadata": {},
   "source": [
    "Discover Mechanics\n",
    "==========\n",
    "\n",
    "Let's do some Monte Carlos for Discover as well.  Some ones to try:\n",
    "\n",
    "* Tomb Spider (Discover a Beast)\n",
    "* Jewled Scarab (Discover a 3 Cost Card)\n",
    "* Dark Peddler (Discover a 1-Cost Card - Warlock Only)\n",
    "* Ethereal Conjurer (Discover a Spell - Mage Only)"
   ]
  },
  {
   "cell_type": "code",
   "execution_count": 4,
   "metadata": {
    "collapsed": true
   },
   "outputs": [],
   "source": [
    "# Load up all the cards\n",
    "from helpers.data import load_dataframe, player_classes\n",
    "from helpers.discover import discover\n",
    "from collections import Counter\n",
    "df = load_dataframe()"
   ]
  },
  {
   "cell_type": "code",
   "execution_count": 7,
   "metadata": {
    "collapsed": true
   },
   "outputs": [],
   "source": [
    "# Tomb Spider (Discover a Beast)\n",
    "# First, let's filter down to just the beasts\n",
    "beasts = df[df.race == \"Beast\"]\n",
    "\n",
    "# let's get the initial optimized dataframes for each class\n",
    "beasts_by_class = dict()\n",
    "for cls in player_classes:\n",
    "    discarded_best, discarded_picks, optimized_df = discover(cls, beasts)\n",
    "    beasts_by_class[cls] = optimized_df\n",
    "    \n",
    "# our function for monte-carloing this\n",
    "def tomb_spider_monte_carlo(cls, n=10000):\n",
    "    best_counter = Counter()\n",
    "    picks_counter = Counter()\n",
    "    for i in range(n):\n",
    "        best, picks, discard = discover(cls, beasts_by_class[cls], needs_weights=False)\n",
    "        best_counter.update([best[\"name\"]])\n",
    "        picks_counter.update(picks[\"name\"].values)\n",
    "    return best_counter, picks_counter"
   ]
  },
  {
   "cell_type": "code",
   "execution_count": 14,
   "metadata": {
    "collapsed": false
   },
   "outputs": [
    {
     "data": {
      "text/plain": [
       "[(u'Savannah Highmane', 146),\n",
       " (u'King Krush', 127),\n",
       " (u\"Gahz'rilla\", 119),\n",
       " (u\"King's Elekk\", 93),\n",
       " (u'Dreadscale', 77),\n",
       " (u'Webspinner', 64),\n",
       " (u'Stampeding Kodo', 37),\n",
       " (u'Haunted Creeper', 32),\n",
       " (u'Stranglethorn Tiger', 27),\n",
       " (u'Core Rager', 26),\n",
       " (u'Scavenging Hyena', 23),\n",
       " (u'Tundra Rhino', 20),\n",
       " (u'Jeweled Scarab', 19),\n",
       " (u'Maexxna', 18),\n",
       " (u'King of Beasts', 16),\n",
       " (u'Jungle Panther', 15),\n",
       " (u'King Mukla', 13),\n",
       " (u'Captured Jormungar', 13),\n",
       " (u'Armored Warhorse', 12),\n",
       " (u'Emperor Cobra', 12),\n",
       " (u'Tomb Spider', 11),\n",
       " (u'Lost Tallstrider', 10),\n",
       " (u'Bloodfen Raptor', 9),\n",
       " (u'River Crocolisk', 9),\n",
       " (u'Ironbeak Owl', 8),\n",
       " (u'The Beast', 8),\n",
       " (u'Timber Wolf', 7),\n",
       " (u'Dire Wolf Alpha', 7),\n",
       " (u'Ironfur Grizzly', 5),\n",
       " (u'Oasis Snapjaw', 5)]"
      ]
     },
     "execution_count": 14,
     "metadata": {},
     "output_type": "execute_result"
    }
   ],
   "source": [
    "best, picks = tomb_spider_monte_carlo(\"Hunter\", n=1000)\n",
    "best.most_common(30)"
   ]
  }
 ],
 "metadata": {
  "kernelspec": {
   "display_name": "Python 2",
   "language": "python",
   "name": "python2"
  },
  "language_info": {
   "codemirror_mode": {
    "name": "ipython",
    "version": 2
   },
   "file_extension": ".py",
   "mimetype": "text/x-python",
   "name": "python",
   "nbconvert_exporter": "python",
   "pygments_lexer": "ipython2",
   "version": "2.7.10"
  }
 },
 "nbformat": 4,
 "nbformat_minor": 0
}
