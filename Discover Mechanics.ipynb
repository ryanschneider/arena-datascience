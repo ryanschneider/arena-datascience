{
 "cells": [
  {
   "cell_type": "markdown",
   "metadata": {},
   "source": [
    "Discover Mechanics\n",
    "==========\n",
    "\n",
    "Let's do some Monte Carlos for Discover as well.  Some ones to try:\n",
    "\n",
    "* Tomb Spider (Discover a Beast)\n",
    "* Jewled Scarab (Discover a 3 Cost Card)\n",
    "* Dark Peddler (Discover a 1-Cost Card - Warlock Only)\n",
    "* Ethereal Conjurer (Discover a Spell - Mage Only)"
   ]
  },
  {
   "cell_type": "code",
   "execution_count": 20,
   "metadata": {
    "collapsed": true
   },
   "outputs": [],
   "source": [
    "# Load up all the cards\n",
    "from helpers.data import load_dataframe, player_classes\n",
    "from helpers.discover import discover\n",
    "from collections import Counter\n",
    "import numpy as np\n",
    "\n",
    "df = load_dataframe()"
   ]
  },
  {
   "cell_type": "code",
   "execution_count": 7,
   "metadata": {
    "collapsed": true
   },
   "outputs": [],
   "source": [
    "# Tomb Spider (Discover a Beast)\n",
    "# First, let's filter down to just the beasts\n",
    "beasts = df[df.race == \"Beast\"]\n",
    "\n",
    "# let's get the initial optimized dataframes for each class\n",
    "beasts_by_class = dict()\n",
    "for cls in player_classes:\n",
    "    discarded_best, discarded_picks, optimized_df = discover(cls, beasts)\n",
    "    beasts_by_class[cls] = optimized_df\n",
    "    \n",
    "# our function for monte-carloing this\n",
    "def tomb_spider_monte_carlo(cls, n=10000):\n",
    "    best_counter = Counter()\n",
    "    picks_counter = Counter()\n",
    "    for i in range(n):\n",
    "        best, picks, discard = discover(cls, beasts_by_class[cls], needs_weights=False)\n",
    "        best_counter.update([best[\"name\"]])\n",
    "        picks_counter.update(picks[\"name\"].values)\n",
    "    return best_counter, picks_counter"
   ]
  },
  {
   "cell_type": "code",
   "execution_count": 15,
   "metadata": {
    "collapsed": false
   },
   "outputs": [
    {
     "data": {
      "text/plain": [
       "[(u'Savannah Highmane', 1390),\n",
       " (u'King Krush', 1265),\n",
       " (u\"Gahz'rilla\", 1106),\n",
       " (u\"King's Elekk\", 926),\n",
       " (u'Dreadscale', 829),\n",
       " (u'Webspinner', 658),\n",
       " (u'Stampeding Kodo', 332),\n",
       " (u'Core Rager', 318),\n",
       " (u'Scavenging Hyena', 292),\n",
       " (u'Haunted Creeper', 265),\n",
       " (u'Stranglethorn Tiger', 226),\n",
       " (u'Maexxna', 223),\n",
       " (u'King of Beasts', 191),\n",
       " (u'Emperor Cobra', 181),\n",
       " (u'Tomb Spider', 165),\n",
       " (u'King Mukla', 148),\n",
       " (u'Jeweled Scarab', 147),\n",
       " (u'Tundra Rhino', 143),\n",
       " (u'Dire Wolf Alpha', 129),\n",
       " (u'Captured Jormungar', 117),\n",
       " (u'Bloodfen Raptor', 114),\n",
       " (u'Lost Tallstrider', 111),\n",
       " (u'River Crocolisk', 108),\n",
       " (u'Jungle Panther', 107),\n",
       " (u'Armored Warhorse', 100),\n",
       " (u'The Beast', 98),\n",
       " (u'Timber Wolf', 58),\n",
       " (u'Ironfur Grizzly', 49),\n",
       " (u'Ironbeak Owl', 48),\n",
       " (u'Stonetusk Boar', 34)]"
      ]
     },
     "execution_count": 15,
     "metadata": {},
     "output_type": "execute_result"
    }
   ],
   "source": [
    "best, picks = tomb_spider_monte_carlo(\"Hunter\", n=10000)\n",
    "best.most_common(30)"
   ]
  },
  {
   "cell_type": "code",
   "execution_count": 32,
   "metadata": {
    "collapsed": false
   },
   "outputs": [
    {
     "data": {
      "text/plain": [
       "(74.2864, 54.358974358974358)"
      ]
     },
     "execution_count": 32,
     "metadata": {},
     "output_type": "execute_result"
    }
   ],
   "source": [
    "# The Average Best Score is Actually much better than the Average Score\n",
    "scores = []\n",
    "for card, count in best.items():\n",
    "    score = beasts[beasts[\"name\"] == card].iloc[0].Hunter_Tier\n",
    "    scores.extend([score] * count)\n",
    "\n",
    "avg_best_score = np.mean(scores)\n",
    "avg_best_score, beasts_by_class[\"Hunter\"].Hunter_Tier.mean()"
   ]
  }
 ],
 "metadata": {
  "kernelspec": {
   "display_name": "Python 2",
   "language": "python",
   "name": "python2"
  },
  "language_info": {
   "codemirror_mode": {
    "name": "ipython",
    "version": 2
   },
   "file_extension": ".py",
   "mimetype": "text/x-python",
   "name": "python",
   "nbconvert_exporter": "python",
   "pygments_lexer": "ipython2",
   "version": "2.7.10"
  }
 },
 "nbformat": 4,
 "nbformat_minor": 0
}
